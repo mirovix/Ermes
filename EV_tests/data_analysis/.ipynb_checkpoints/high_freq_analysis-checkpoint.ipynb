{
 "cells": [
  {
   "cell_type": "code",
   "execution_count": 1,
   "id": "fc0a1605",
   "metadata": {},
   "outputs": [],
   "source": [
    "import numpy as np \n",
    "import matplotlib.pyplot as plt\n",
    "from numpy.lib.npyio import loadtxt"
   ]
  },
  {
   "cell_type": "markdown",
   "id": "fcf23f57",
   "metadata": {},
   "source": [
    "commodity function:"
   ]
  },
  {
   "cell_type": "code",
   "execution_count": 15,
   "id": "7dcbd77a",
   "metadata": {},
   "outputs": [],
   "source": [
    "def plot_data_file(datas,steps = 16, calibration_factor = 696.0, tare = 0):\n",
    "    read_data = loadtxt(datas)\n",
    "    for i in range(0,steps):\n",
    "        mask =  (read_data[:, 0] == i)\n",
    "        mean_ = np.mean(read_data[mask][:,1])\n",
    "        mean_ = (mean_- tare)* calibration_factor\n",
    "        plt.plot(i, mean_, 'bo')\n",
    "    plt.show()\n",
    "def plot_data(run = \"r\", freq = \"30Hz\", min_pwm = \"0\", max_pwm = \"256\", steps = 16, calibration_factor = 696.0, tare = 5):\n",
    "    datas = \"../freq_experiment/high_frequency_results/\"+run+\"_\"+freq+\"_\"+min_pwm+\"_\"+max_pwm+\"_\"+str(steps)+\"step.txt\"\n",
    "\n",
    "    read_data = loadtxt(datas)\n",
    "    for i in range(0,steps):\n",
    "        mask =  (read_data[:, 0] == i)\n",
    "        mean_ = np.mean(read_data[mask][:,1])\n",
    "        mean_ = (mean_- tare) * calibration_factor\n",
    "        plt.plot(i, mean_, 'bo')\n",
    "    plt.show()\n",
    "    \n",
    "def plot_scatter(datas,steps = 16, calibration_factor = 696.0, tare = 0):\n",
    "    read_data = loadtxt(datas) * calibration_factor\n",
    "    plt.scatter(read_data[:,0], read_data[:,1])\n",
    "    plt.show()"
   ]
  },
  {
   "cell_type": "code",
   "execution_count": 16,
   "id": "0a10de89",
   "metadata": {},
   "outputs": [],
   "source": [
    "cal_fact = 9.81*98.5903/1e6\n",
    "tare_ = 0"
   ]
  },
  {
   "cell_type": "markdown",
   "id": "9dd75aef",
   "metadata": {},
   "source": [
    "## 30 Hz 16 steps"
   ]
  },
  {
   "cell_type": "code",
   "execution_count": 18,
   "id": "57106d52",
   "metadata": {},
   "outputs": [
    {
     "data": {
      "image/png": "[encoded data removed]",
      "text/plain": [
       "<Figure size 432x288 with 1 Axes>"
      ]
     },
     "metadata": {
      "needs_background": "light"
     },
     "output_type": "display_data"
    }
   ],
   "source": [
    "plot_data(run = \"r\", freq = \"30Hz\", min_pwm = \"0\", max_pwm = \"256\", steps = 16, calibration_factor = cal_fact, tare = tare_)"
   ]
  },
  {
   "cell_type": "code",
   "execution_count": 10,
   "id": "11876cc8",
   "metadata": {},
   "outputs": [
    {
     "data": {
      "image/png": "[encoded data removed]",
      "text/plain": [
       "<Figure size 432x288 with 1 Axes>"
      ]
     },
     "metadata": {
      "needs_background": "light"
     },
     "output_type": "display_data"
    }
   ],
   "source": [
    "plot_data(run = \"r3\", freq = \"122Hz\", min_pwm = \"208\", max_pwm = \"256\", steps = 6, calibration_factor = cal_fact, tare = tare_)"
   ]
  },
  {
   "cell_type": "code",
   "execution_count": 22,
   "id": "5f7f45c8",
   "metadata": {},
   "outputs": [
    {
     "data": {
      "image/png": "[encoded data removed]",
      "text/plain": [
       "<Figure size 432x288 with 1 Axes>"
      ]
     },
     "metadata": {
      "needs_background": "light"
     },
     "output_type": "display_data"
    }
   ],
   "source": [
    "plot_data_file(\"../freq_experiment/test.0\",steps = 16,calibration_factor = cal_fact, tare = tare_)"
   ]
  },
  {
   "cell_type": "code",
   "execution_count": null,
   "id": "48176ddc",
   "metadata": {},
   "outputs": [],
   "source": []
  }
 ],
 "metadata": {
  "kernelspec": {
   "display_name": "Python 3",
   "language": "python",
   "name": "python3"
  },
  "language_info": {
   "codemirror_mode": {
    "name": "ipython",
    "version": 3
   },
   "file_extension": ".py",
   "mimetype": "text/x-python",
   "name": "python",
   "nbconvert_exporter": "python",
   "pygments_lexer": "ipython3",
   "version": "3.9.7"
  }
 },
 "nbformat": 4,
 "nbformat_minor": 5
}
